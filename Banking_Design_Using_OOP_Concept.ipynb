{
 "cells": [
  {
   "cell_type": "markdown",
   "id": "66cacd14",
   "metadata": {},
   "source": [
    "#### Design a banking system using object-oriented programming concepts in Python. Requirements:\n",
    "#### ● Create an abstract class called BankAccount that defines the common attributes and behaviors of different types of bank accounts such as SavingsAccount, CheckingAccount, and CreditCardAccount.\n",
    "#### ● The BankAccount class should have the following attributes:\n",
    "#### ○ account_number (integer)\n",
    "#### ○ account_holder_name (string)\n",
    "#### ○ account_balance (float)\n",
    "#### ● The BankAccount class should have the following methods:\n",
    "#### ○ deposit(amount: float) -> None - add the specified amount to the account balance\n",
    "#### ○ withdraw(amount: float) -> bool - remove the specified amount from the account balance if the balance is sufficient and return True, otherwise return False\n",
    "#### ○ get_account_balance() -> float - return the current balance of the account\n",
    "#### ● Create a subclass called SavingsAccount that inherits from the BankAccount class and has the following additional attributes:\n",
    "#### ○ interest_rate (float)\n",
    "#### ● The SavingsAccount class should have the following methods:\n",
    "#### ○ add_interest() -> None - add interest to the account balance based on the current interest rate\n",
    "#### ● Create a subclass called CheckingAccount that inherits from the BankAccount class and has the following additional attributes:\n",
    "#### ○ overdraft_limit (float)\n",
    "#### ● The CheckingAccount class should have the following methods:\n",
    "#### ○ withdraw(amount: float) -> bool - remove the specified amount from the account balance if the balance plus the overdraft limit is sufficient and return True, otherwise return False\n",
    "#### ● Create a subclass called CreditCardAccount that inherits from the BankAccount class and has the following additional attributes:\n",
    "#### ○ credit_limit (float)\n",
    "#### ● The CreditCardAccount class should have the following methods:\n",
    "#### ○ make_purchase(amount: float) -> bool - remove the specified amount from the credit limit if the limit is not exceeded and return True, otherwise return False\n",
    "#### ○ make_payment(amount: float) -> None - add the specified amount to the account balance to reduce the credit card debt\n",
    "#### ● Create instances of each subclass and test the functionality of the implemented methods.\n",
    "#### ● Use abstraction to hide the implementation details of the banking system from the end-users.\n",
    "#### ● Use polymorphism to handle different types of bank transactions. Deliverables:\n",
    "#### ● A well-formatted Python code."
   ]
  },
  {
   "cell_type": "code",
   "execution_count": 3,
   "id": "f7648268",
   "metadata": {},
   "outputs": [],
   "source": [
    "from abc import ABC, abstractmethod"
   ]
  },
  {
   "cell_type": "code",
   "execution_count": 4,
   "id": "b596b281",
   "metadata": {},
   "outputs": [],
   "source": [
    "class BankAccount(ABC):\n",
    "    def __init__(self, account_number, account_holder_name, account_balance):\n",
    "        self.account_number = account_number\n",
    "        self.account_holder_name = account_holder_name\n",
    "        self.account_balance = account_balance\n",
    "\n",
    "    def deposit(self, amount):\n",
    "        pass\n",
    "\n",
    "    def withdraw(self, amount):\n",
    "        pass\n",
    "\n",
    "    def get_account_balance(self):\n",
    "        return self.account_balance\n",
    "\n",
    "class SavingsAccount(BankAccount):\n",
    "    def __init__(self, account_number, account_holder_name, account_balance, interest_rate):\n",
    "        super().__init__(account_number, account_holder_name, account_balance)\n",
    "        self.interest_rate = interest_rate\n",
    "\n",
    "    def deposit(self, amount):\n",
    "        self.account_balance += amount\n",
    "\n",
    "    def withdraw(self, amount):\n",
    "        if self.account_balance >= amount:\n",
    "            self.account_balance -= amount\n",
    "            return True\n",
    "        return False\n",
    "\n",
    "    def add_interest(self):\n",
    "        self.account_balance += self.account_balance * (self.interest_rate / 100)\n",
    "\n",
    "class CheckingAccount(BankAccount):\n",
    "    def __init__(self, account_number, account_holder_name, account_balance, overdraft_limit):\n",
    "        super().__init__(account_number, account_holder_name, account_balance)\n",
    "        self.overdraft_limit = overdraft_limit\n",
    "\n",
    "    def withdraw(self, amount):\n",
    "        if self.account_balance + self.overdraft_limit >= amount:\n",
    "            self.account_balance -= amount\n",
    "            return True\n",
    "        return False\n",
    "\n",
    "class CreditCardAccount(BankAccount):\n",
    "    def __init__(self, account_number, account_holder_name, account_balance, credit_limit):\n",
    "        super().__init__(account_number, account_holder_name, account_balance)\n",
    "        self.credit_limit = credit_limit\n",
    "\n",
    "    def withdraw(self, amount):\n",
    "        return False \n",
    "\n",
    "    def make_purchase(self, amount):\n",
    "        if self.account_balance + self.credit_limit >= amount:\n",
    "            self.account_balance -= amount\n",
    "            return True\n",
    "        return False\n",
    "\n",
    "    def make_payment(self, amount):\n",
    "        self.account_balance += amount\n"
   ]
  },
  {
   "cell_type": "code",
   "execution_count": 5,
   "id": "6309f235",
   "metadata": {},
   "outputs": [
    {
     "name": "stdout",
     "output_type": "stream",
     "text": [
      "Savings Account Balance: 6360.0\n"
     ]
    }
   ],
   "source": [
    "savings_account = SavingsAccount(1345, \"Swati\", 5000.0, 6.0)\n",
    "savings_account.deposit(1000.0)\n",
    "savings_account.add_interest()\n",
    "print(\"Savings Account Balance:\", savings_account.get_account_balance())"
   ]
  },
  {
   "cell_type": "code",
   "execution_count": 13,
   "id": "6f63bf2e",
   "metadata": {},
   "outputs": [
    {
     "name": "stdout",
     "output_type": "stream",
     "text": [
      "Checking Account Balance: 6400.0\n",
      "Withdrawal: True\n",
      "Withdrawal: False\n",
      "Checking Account Balance: 3700.0\n"
     ]
    }
   ],
   "source": [
    "checking_account = CheckingAccount(2842, \"Aishwarya\", 6400.0, 600.0)\n",
    "print(\"Checking Account Balance:\", checking_account.get_account_balance())\n",
    "print(\"Withdrawal:\", checking_account.withdraw(2700.0)) \n",
    "print(\"Withdrawal:\", checking_account.withdraw(4600.0))  \n",
    "print(\"Checking Account Balance:\", checking_account.get_account_balance())"
   ]
  },
  {
   "cell_type": "code",
   "execution_count": 14,
   "id": "8b77d052",
   "metadata": {},
   "outputs": [
    {
     "name": "stdout",
     "output_type": "stream",
     "text": [
      "Credit Card Account Balance: 6000.0\n",
      "Make Purchase: True\n",
      "withdraw: False\n",
      "Credit Card Account Balance: 5500.0\n"
     ]
    }
   ],
   "source": [
    "credit_card_account = CreditCardAccount(3478, \"Abhishek\", 6000.0, 3000.0)\n",
    "print(\"Credit Card Account Balance:\", credit_card_account.get_account_balance())\n",
    "print(\"Make Purchase:\", credit_card_account.make_purchase(1700.0))\n",
    "print(\"withdraw:\", credit_card_account.withdraw(4500.0))\n",
    "credit_card_account.make_payment(1200.0)\n",
    "print(\"Credit Card Account Balance:\", credit_card_account.get_account_balance())"
   ]
  },
  {
   "cell_type": "code",
   "execution_count": null,
   "id": "6b5e6f71",
   "metadata": {},
   "outputs": [],
   "source": []
  }
 ],
 "metadata": {
  "kernelspec": {
   "display_name": "Python 3 (ipykernel)",
   "language": "python",
   "name": "python3"
  },
  "language_info": {
   "codemirror_mode": {
    "name": "ipython",
    "version": 3
   },
   "file_extension": ".py",
   "mimetype": "text/x-python",
   "name": "python",
   "nbconvert_exporter": "python",
   "pygments_lexer": "ipython3",
   "version": "3.10.9"
  }
 },
 "nbformat": 4,
 "nbformat_minor": 5
}
